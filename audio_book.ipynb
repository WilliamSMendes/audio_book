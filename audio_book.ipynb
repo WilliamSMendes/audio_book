{
 "cells": [
  {
   "cell_type": "markdown",
   "id": "stock-norwegian",
   "metadata": {},
   "source": [
    "### Transformando livros em audio books\n",
    "\n",
    "Criei uma função que transforma qualquer pdf/livro em forma de áudio.\n",
    "\n",
    "Para isso são necessárias duas bibliotecas:\n",
    " * pyttsx3\n",
    " * PyPDF2 (caso tenha problemas com essa biblioteca, procure por PyMuPDF)"
   ]
  },
  {
   "cell_type": "code",
   "execution_count": 1,
   "id": "inappropriate-friday",
   "metadata": {},
   "outputs": [
    {
     "name": "stdout",
     "output_type": "stream",
     "text": [
      "Requirement already satisfied: pyttsx3 in c:\\users\\user\\appdata\\local\\programs\\python\\python39\\lib\\site-packages (2.90)\n",
      "Requirement already satisfied: comtypes in c:\\users\\user\\appdata\\local\\programs\\python\\python39\\lib\\site-packages (from pyttsx3) (1.1.10)\n",
      "Requirement already satisfied: pywin32 in c:\\users\\user\\appdata\\local\\programs\\python\\python39\\lib\\site-packages (from pyttsx3) (300)\n",
      "Requirement already satisfied: pypiwin32 in c:\\users\\user\\appdata\\local\\programs\\python\\python39\\lib\\site-packages (from pyttsx3) (223)\n"
     ]
    }
   ],
   "source": [
    "!pip install pyttsx3"
   ]
  },
  {
   "cell_type": "code",
   "execution_count": 2,
   "id": "other-routine",
   "metadata": {},
   "outputs": [
    {
     "name": "stdout",
     "output_type": "stream",
     "text": [
      "Requirement already satisfied: PyPDF2 in c:\\users\\user\\appdata\\local\\programs\\python\\python39\\lib\\site-packages (1.26.0)\n"
     ]
    }
   ],
   "source": [
    "!pip install PyPDF2"
   ]
  },
  {
   "cell_type": "code",
   "execution_count": 3,
   "id": "hearing-defense",
   "metadata": {},
   "outputs": [],
   "source": [
    "import pyttsx3\n",
    "import PyPDF2"
   ]
  },
  {
   "cell_type": "code",
   "execution_count": 7,
   "id": "attractive-dependence",
   "metadata": {},
   "outputs": [],
   "source": [
    "def audio_book(pdf):\n",
    "    print('Abrindo Áudio Book...')\n",
    "    leitor_pdf = PyPDF2.PdfFileReader(pdf)\n",
    "    tocar = pyttsx3.init()\n",
    "    num_paginas = leitor_pdf.numPages\n",
    "\n",
    "    # Extraindo o texto do pdf:\n",
    "    for num in range(0, num_paginas):\n",
    "        pagina = leitor_pdf.getPage(num)\n",
    "        dados = pagina.extractText()\n",
    "    \n",
    "        # Lendo o texto do arquivo\n",
    "        tocar.say(dados)\n",
    "        tocar.runAndWait()\n",
    "        print('Fim do Audio Book')\n",
    "    return pdf.close()"
   ]
  },
  {
   "cell_type": "code",
   "execution_count": 8,
   "id": "excellent-practitioner",
   "metadata": {},
   "outputs": [
    {
     "name": "stdout",
     "output_type": "stream",
     "text": [
      "Abrindo Áudio Book...\n",
      "Fim do Audio Book\n",
      "Fim do Audio Book\n"
     ]
    }
   ],
   "source": [
    "# Carregue aqui o pdf a sua escolha\n",
    "pdf = open('Resumo Línguas Africanas.pdf', 'rb') \n",
    "\n",
    "# Passe a variável como argumento na função\n",
    "audio_book(pdf)"
   ]
  }
 ],
 "metadata": {
  "kernelspec": {
   "display_name": "Python 3",
   "language": "python",
   "name": "python3"
  },
  "language_info": {
   "codemirror_mode": {
    "name": "ipython",
    "version": 3
   },
   "file_extension": ".py",
   "mimetype": "text/x-python",
   "name": "python",
   "nbconvert_exporter": "python",
   "pygments_lexer": "ipython3",
   "version": "3.9.2"
  }
 },
 "nbformat": 4,
 "nbformat_minor": 5
}
